{
 "cells": [
  {
   "cell_type": "code",
   "execution_count": 25,
   "metadata": {},
   "outputs": [],
   "source": [
    "import requests\n",
    "from bs4 import BeautifulSoup as bs"
   ]
  },
  {
   "cell_type": "code",
   "execution_count": 26,
   "metadata": {},
   "outputs": [],
   "source": [
    "# 0 = 즉위년, 1 = 1년 ...\n",
    "def getMonthKeysFromYear(year):\n",
    "    res = requests.get(\"http://sillok.history.go.kr/search/inspectionMonthList.do?id=kda\")\n",
    "    soup = bs(res.content, \"html.parser\")\n",
    "    body_year = soup.find(\"ul\", \"king_year2\").findAll(\"ul\", \"clear2\")[year]\n",
    "\n",
    "    key = list(map(lambda a: a.text, body_year.findAll(\"a\")))\n",
    "    value = list(map(lambda a: a[\"href\"].split(\"(\")[1].split(\",\")[0].replace('\\'', \"\"), body_year.findAll(\"a\")))\n",
    "    return [key, value]"
   ]
  },
  {
   "cell_type": "code",
   "execution_count": 27,
   "metadata": {},
   "outputs": [],
   "source": [
    "def isSiteValid(res):\n",
    "    return \"조선왕조실록 : 요청하신 페이지를 찾을 수 없습니다.\" not in res.text\n",
    "\n",
    "def getDayUrlFromMonthKey(monthKey, start=1, end=33):\n",
    "    answer = []\n",
    "    for day in range(start, end):\n",
    "        articles = []\n",
    "        for article in range(1, 100):\n",
    "            url = f'http://sillok.history.go.kr/id/{monthKey}{day:02d}_{article:03d}'\n",
    "            res = requests.get(url)\n",
    "            if not isSiteValid(res): break\n",
    "            articles.append(url)\n",
    "        answer.append([day, articles])\n",
    "    return answer"
   ]
  },
  {
   "cell_type": "code",
   "execution_count": 28,
   "metadata": {},
   "outputs": [],
   "source": [
    "\n",
    "# output: volume, date, hangul, hanza\n",
    "def getFromUrl(url):\n",
    "    res = requests.get(url)\n",
    "    if not isSiteValid(res): raise \"Invalid url on getFromUrl function\"\n",
    "    soup = bs(res.content, \"html.parser\")\n",
    "\n",
    "    # finding volume and date\n",
    "    parent = soup.find(\"span\", \"tit_loc\")\n",
    "    child = parent.find(\"span\")\n",
    "    child.extract() # extract child tag from parent tag\n",
    "    volume, date = list(map(lambda x: x.strip(), parent.text.strip().split(\",\")))\n",
    "\n",
    "    # finding hangul\n",
    "    hangul = soup.find(\"div\", \"ins_left_in\").find(\"div\", \"ins_view_pd\")\n",
    "    ## Remove footnotes\n",
    "    foots = hangul.findAll(\"a\", \"idx_annotation04_foot\")\n",
    "    for foot in foots: foot.extract()\n",
    "    foots = hangul.findAll(\"a\", \"footnote_super\")\n",
    "    for foot in foots: foot.extract()\n",
    "    foots = hangul.findAll(\"ul\", \"ins_source\")\n",
    "    for foot in foots: foot.extract()\n",
    "    foots = hangul.findAll(\"ul\", \"ins_footnote\")\n",
    "    for foot in foots: foot.extract()\n",
    "    ## Paragraph\n",
    "    paragraph_p = list(map(lambda p: p.text.strip(), hangul.findAll(\"p\", \"paragraph\")))\n",
    "    paragraph_hangul = \"\\n\".join(paragraph_p)\n",
    "        \n",
    "    # finding hanza\n",
    "    hanza = soup.find(\"div\", \"ins_right_in\").find(\"div\", \"ins_view_pd\")\n",
    "    removeables = hanza.findAll(\"ul\", \"ins_source\")\n",
    "    for removeable in removeables: removeable.extract()\n",
    "    paragraph_p = list(map(lambda p: p.text.strip(), hanza.findAll(\"p\", \"paragraph\")))\n",
    "    paragraph_hanza = \"\\n\\n\".join(paragraph_p)\n",
    "    \n",
    "    return [volume, date, paragraph_hangul, paragraph_hanza]"
   ]
  },
  {
   "cell_type": "code",
   "execution_count": 29,
   "metadata": {},
   "outputs": [],
   "source": [
    "import csv\n",
    "\n",
    "ganz = []\n",
    "\n",
    "with open('ganz.csv', newline='', encoding=\"UTF8\") as csvfile:\n",
    "    spamreader = csv.reader(csvfile, delimiter=',')\n",
    "    for row in spamreader:\n",
    "        ganz.append(list(row))\n",
    "\n",
    "def getGanzFromHangul(hangul):\n",
    "    answer = \"---없습니다.---\"\n",
    "    for g in ganz:\n",
    "        if hangul == g[2]:\n",
    "            answer = g[1]\n",
    "            break;\n",
    "    return answer\n",
    "    \n",
    "def ganji(year):\n",
    "    cheongan = [\"경\", \"신\", \"임\", \"계\", \"갑\", \"을\", \"병\", \"정\", \"무\", \"기\"];\n",
    "    jiji = [\"신\", \"유\", \"술\", \"해\", \"자\", \"축\", \"인\", \"묘\", \"진\", \"사\", \"오\", \"미\"];\n",
    "    sibiji = [\"원숭이\", \"닭\", \"개\", \"돼지\", \"쥐\", \"소\", \"호랑이\", \"토끼\", \"용\", \"뱀\", \"말\", \"양\"];\n",
    "    ganji1 = year%10;\n",
    "    ganji2 = year%12;\n",
    "\n",
    "    return cheongan[ganji1] + jiji[ganji2]\n"
   ]
  },
  {
   "cell_type": "code",
   "execution_count": 30,
   "metadata": {},
   "outputs": [],
   "source": [
    "# Output: [volume, date, hangul, hanza]\n",
    "def getFromDay(monthKey, day):\n",
    "    days = getDayUrlFromMonthKey(monthKey, day, day+1)\n",
    "\n",
    "    hanguls = []\n",
    "    hanza_answer = \"\"\n",
    "\n",
    "    if len(days[0]) == 0:\n",
    "      return\n",
    "\n",
    "    for url in days[0][1]:\n",
    "        print(\".\", end=\"\")\n",
    "        volume, date, hangul, hanza = getFromUrl(url)\n",
    "        \n",
    "        hanguls.append(hangul.strip())\n",
    "        hanza_answer = hanza_answer + \"\\n\" + hanza\n",
    "    \n",
    "    day_h = date.split(\" \")[-2]\n",
    "    return volume, date, day_h + \"일(\" + getGanzFromHangul(day_h) + \"日-\" + str(day) + \"일)에 \" + \"\\n\\n○ \".join(hanguls), hanza_answer\n"
   ]
  },
  {
   "cell_type": "code",
   "execution_count": null,
   "metadata": {},
   "outputs": [],
   "source": [
    "def getFromMonthKey(year, month, monthKey):\n",
    "    months = getDayUrlFromMonthKey(monthKey)\n",
    "    hanguls = []\n",
    "    hanzas = []\n",
    "    for day, urls in months:\n",
    "        print (f\"{day}(\", end=\"\")\n",
    "        if len(urls) == 0: continue\n",
    "        volume, date, hangul, hanza = getFromDay(monthKey, day)\n",
    "        hanguls.append(hangul)\n",
    "        hanzas.append(hanza)\n",
    "        print (f\") \", end=\"\")\n",
    "    if len(urls) == 0:\n",
    "        print (f\") \", end=\"\")\n",
    "    print (\"\")\n",
    "    \n",
    "    # ---\n",
    "    print (f\"{month}의 정보를 파일로 만드는 중입니다.\")\n",
    "    hangul = \"\\n\\n\".join(hanguls)\n",
    "    hanza = \"\\n\\n\".join(hanzas)\n",
    "    \n",
    "    year_hangul = f\"세종{year}년\"\n",
    "    if year == 0:\n",
    "        year_hangul = \"세종 즉위년\"\n",
    "    \n",
    "    # 세종1년 (1418년) 무술년 (무술년) 8월\n",
    "    gan = ganji(year+1417)\n",
    "    title_hangul = f\"{year_hangul} ({year+1417}년) {gan}년 ({getGanzFromHangul(gan)}年) {month}\"\n",
    "    # 원문 (세종실록 1권, 세종 즉위년 8월)\n",
    "    title_hanza = f\"원문 ({volume}, {year_hangul} {month})\"\n",
    "    \n",
    "    with open(f'{month} 국역.txt', 'w', encoding=\"UTF8\") as f:\n",
    "        f.write(volume + \"\\n\" + title_hangul + \"\\n\\n\" + hangul)\n",
    "    with open(f'{month} 원문.txt', 'w', encoding=\"UTF8\") as f:\n",
    "        f.write(title_hanza + \"\\n\" + hanza)"
   ]
  },
  {
   "cell_type": "code",
   "execution_count": 32,
   "metadata": {},
   "outputs": [
    {
     "data": {
      "text/plain": [
       "[['1월', '2월', '3월', '4월', '5월', '6월', '7월', '8월', '9월', '10월', '11월', '12월'],\n",
       " ['kda_101010',\n",
       "  'kda_101020',\n",
       "  'kda_101030',\n",
       "  'kda_101040',\n",
       "  'kda_101050',\n",
       "  'kda_101060',\n",
       "  'kda_101070',\n",
       "  'kda_101080',\n",
       "  'kda_101090',\n",
       "  'kda_101100',\n",
       "  'kda_101110',\n",
       "  'kda_101120']]"
      ]
     },
     "execution_count": 32,
     "metadata": {},
     "output_type": "execute_result"
    }
   ],
   "source": [
    "getMonthKeysFromYear(1)"
   ]
  },
  {
   "cell_type": "code",
   "execution_count": 35,
   "metadata": {},
   "outputs": [
    {
     "name": "stdout",
     "output_type": "stream",
     "text": [
      "1(..) 2(...) 3(...) 4(.) 5(....) 6(.........) 7(....) 8(.....) 9(.......) 10(......) 11(.....) 12(.....) 13(....) 14(....) 15(.....) 16(.......) 17(........) 18(....) 19(.....) 20(.....) 21(....) 22(.....) 23(.....) 24(......) 25(.......) 26(...) 27(.......) 28(......) 29(......) 30(......) 31(32(\n",
      "1월의 정보를 파일로 만드는 중입니다.\n"
     ]
    }
   ],
   "source": [
    "getFromMonthKey(1, \"1월\", \"kda_101010\")"
   ]
  },
  {
   "cell_type": "code",
   "execution_count": 36,
   "metadata": {},
   "outputs": [
    {
     "name": "stdout",
     "output_type": "stream",
     "text": [
      "1(.......) 2(.......) 3(.) 4(..........) 5(.....) 6(.........) 7(........) 8(......) 9(......) 10(.) 11(..) 12(..) 13(..) 14(...) 15(..) 16(.) 17(..) 18(.) 19(.) 20(.) 21(.....) 22(.) 23(....) 24(..) 25(..) 26(.......) 27(..........) 28(....) 29(...) 30(....) 31(32(\n",
      "3월의 정보를 파일로 만드는 중입니다.\n"
     ]
    }
   ],
   "source": [
    "getFromMonthKey(1, \"3월\", \"kda_101030\")"
   ]
  },
  {
   "cell_type": "code",
   "execution_count": 37,
   "metadata": {},
   "outputs": [
    {
     "name": "stdout",
     "output_type": "stream",
     "text": [
      "1(...) 2(....) 3(4(.......) 5(..) 6(...) 7(..) 8(...) 9(...) 10(.) 11(......) 12(....) 13(......) 14(.......) 15(...........) 16(........) 17(.........) 18(...) 19(.......) 20(.....) 21(..) 22(...) 23(...) 24(...) 25(..) 26(.........) 27(......) 28(..) 29(...) 30(......) 31(32(\n",
      "4월의 정보를 파일로 만드는 중입니다.\n"
     ]
    }
   ],
   "source": [
    "getFromMonthKey(1, \"4월\", \"kda_101040\")"
   ]
  },
  {
   "cell_type": "code",
   "execution_count": 38,
   "metadata": {},
   "outputs": [
    {
     "name": "stdout",
     "output_type": "stream",
     "text": [
      "1(.....) 2(....) 3(....) 4(......) 5(.......) 6(..) 7(....) 8(....) 9(...) 10(........) 11(.....) 12("
     ]
    }
   ],
   "source": [
    "getFromMonthKey(1, \"5월\", \"kda_101050\")"
   ]
  },
  {
   "cell_type": "code",
   "execution_count": null,
   "metadata": {},
   "outputs": [],
   "source": [
    "getFromMonthKey(1, \"6월\", \"kda_101060\")"
   ]
  },
  {
   "cell_type": "code",
   "execution_count": null,
   "metadata": {},
   "outputs": [],
   "source": [
    "getFromMonthKey(1, \"7월\", \"kda_101070\")"
   ]
  },
  {
   "cell_type": "code",
   "execution_count": null,
   "metadata": {},
   "outputs": [],
   "source": [
    "getFromMonthKey(1, \"8월\", \"kda_101080\")"
   ]
  },
  {
   "cell_type": "code",
   "execution_count": null,
   "metadata": {},
   "outputs": [],
   "source": [
    "getFromMonthKey(1, \"9월\", \"kda_101090\")"
   ]
  },
  {
   "cell_type": "code",
   "execution_count": null,
   "metadata": {},
   "outputs": [],
   "source": [
    "getFromMonthKey(1, \"10월\", \"kda_101100\")"
   ]
  },
  {
   "cell_type": "code",
   "execution_count": null,
   "metadata": {},
   "outputs": [],
   "source": [
    "getFromMonthKey(1, \"11월\", \"kda_101110\")"
   ]
  },
  {
   "cell_type": "code",
   "execution_count": null,
   "metadata": {},
   "outputs": [],
   "source": [
    "getFromMonthKey(1, \"12월\", \"kda_101120\")"
   ]
  },
  {
   "cell_type": "code",
   "execution_count": null,
   "metadata": {},
   "outputs": [],
   "source": []
  }
 ],
 "metadata": {
  "interpreter": {
   "hash": "b0fa6594d8f4cbf19f97940f81e996739fb7646882a419484c72d19e05852a7e"
  },
  "kernelspec": {
   "display_name": "Python 3.9.9 64-bit",
   "language": "python",
   "name": "python3"
  },
  "language_info": {
   "codemirror_mode": {
    "name": "ipython",
    "version": 3
   },
   "file_extension": ".py",
   "mimetype": "text/x-python",
   "name": "python",
   "nbconvert_exporter": "python",
   "pygments_lexer": "ipython3",
   "version": "3.9.9"
  },
  "orig_nbformat": 4
 },
 "nbformat": 4,
 "nbformat_minor": 2
}
