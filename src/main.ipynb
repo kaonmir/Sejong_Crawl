{
 "cells": [
  {
   "cell_type": "code",
   "execution_count": 1,
   "metadata": {},
   "outputs": [],
   "source": [
    "import requests\n",
    "from bs4 import BeautifulSoup as bs"
   ]
  },
  {
   "cell_type": "code",
   "execution_count": 2,
   "metadata": {},
   "outputs": [],
   "source": [
    "# 0 = 즉위년, 1 = 1년 ...\n",
    "def getMonthKeysFromYear(year):\n",
    "    res = requests.get(\"http://sillok.history.go.kr/search/inspectionMonthList.do?id=kda\")\n",
    "    soup = bs(res.content, \"html.parser\")\n",
    "    body_year = soup.find(\"ul\", \"king_year2\").findAll(\"ul\", \"clear2\")[year]\n",
    "\n",
    "    key = list(map(lambda a: a.text, body_year.findAll(\"a\")))\n",
    "    value = list(map(lambda a: a[\"href\"].split(\"(\")[1].split(\",\")[0].replace('\\'', \"\"), body_year.findAll(\"a\")))\n",
    "    return [key, value]"
   ]
  },
  {
   "cell_type": "code",
   "execution_count": 3,
   "metadata": {},
   "outputs": [],
   "source": [
    "def isSiteValid(res):\n",
    "    return \"조선왕조실록 : 요청하신 페이지를 찾을 수 없습니다.\" not in res.text\n",
    "\n",
    "def getDayUrlFromDayKey(monthKey, day):\n",
    "    articles = []\n",
    "    for article in range(1, 100):\n",
    "        url = f'http://sillok.history.go.kr/id/{monthKey}{day:02d}_{article:03d}'\n",
    "        res = requests.get(url)\n",
    "        if not isSiteValid(res): break\n",
    "        articles.append(url)\n",
    "    return articles"
   ]
  },
  {
   "cell_type": "code",
   "execution_count": 4,
   "metadata": {},
   "outputs": [],
   "source": [
    "\n",
    "# output: volume, date, hangul, hanza\n",
    "def getFromUrl(url):\n",
    "    res = requests.get(url)\n",
    "    if not isSiteValid(res): raise \"Invalid url on getFromUrl function\"\n",
    "    soup = bs(res.content, \"html.parser\")\n",
    "\n",
    "    # finding volume and date\n",
    "    parent = soup.find(\"span\", \"tit_loc\")\n",
    "    child = parent.find(\"span\")\n",
    "    child.extract() # extract child tag from parent tag\n",
    "    volume, date = list(map(lambda x: x.strip(), parent.text.strip().split(\",\")))\n",
    "\n",
    "    # finding hangul\n",
    "    hangul = soup.find(\"div\", \"ins_left_in\").find(\"div\", \"ins_view_pd\")\n",
    "    ## Remove footnotes\n",
    "    foots = hangul.findAll(\"a\", \"idx_annotation04_foot\")\n",
    "    for foot in foots: foot.extract()\n",
    "    foots = hangul.findAll(\"a\", \"footnote_super\")\n",
    "    for foot in foots: foot.extract()\n",
    "    foots = hangul.findAll(\"ul\", \"ins_source\")\n",
    "    for foot in foots: foot.extract()\n",
    "    foots = hangul.findAll(\"ul\", \"ins_footnote\")\n",
    "    for foot in foots: foot.extract()\n",
    "    ## Paragraph\n",
    "    paragraph_p = list(map(lambda p: p.text.strip(), hangul.findAll(\"p\", \"paragraph\")))\n",
    "    paragraph_hangul = \"\\n\".join(paragraph_p)\n",
    "        \n",
    "    # finding hanza\n",
    "    hanza = soup.find(\"div\", \"ins_right_in\").find(\"div\", \"ins_view_pd\")\n",
    "    removeables = hanza.findAll(\"ul\", \"ins_source\")\n",
    "    for removeable in removeables: removeable.extract()\n",
    "    paragraph_p = list(map(lambda p: p.text.strip(), hanza.findAll(\"p\", \"paragraph\")))\n",
    "    paragraph_hanza = \"\\n\\n\".join(paragraph_p)\n",
    "    \n",
    "    return [volume, date, paragraph_hangul, paragraph_hanza]"
   ]
  },
  {
   "cell_type": "code",
   "execution_count": 5,
   "metadata": {},
   "outputs": [],
   "source": [
    "import csv\n",
    "\n",
    "ganz = []\n",
    "\n",
    "with open('ganz.csv', newline='') as csvfile:\n",
    "    spamreader = csv.reader(csvfile, delimiter=',')\n",
    "    for row in spamreader:\n",
    "        ganz.append(list(row))\n",
    "\n",
    "def getGanzFromHangul(hangul):\n",
    "    answer = \"---없습니다.---\"\n",
    "    for g in ganz:\n",
    "        if hangul == g[2]:\n",
    "            answer = g[1]\n",
    "            break;\n",
    "    return answer\n",
    "    \n",
    "def ganji(year):\n",
    "    cheongan = [\"경\", \"신\", \"임\", \"계\", \"갑\", \"을\", \"병\", \"정\", \"무\", \"기\"];\n",
    "    jiji = [\"신\", \"유\", \"술\", \"해\", \"자\", \"축\", \"인\", \"묘\", \"진\", \"사\", \"오\", \"미\"];\n",
    "    sibiji = [\"원숭이\", \"닭\", \"개\", \"돼지\", \"쥐\", \"소\", \"호랑이\", \"토끼\", \"용\", \"뱀\", \"말\", \"양\"];\n",
    "    ganji1 = year%10;\n",
    "    ganji2 = year%12;\n",
    "\n",
    "    return cheongan[ganji1] + jiji[ganji2]\n"
   ]
  },
  {
   "cell_type": "code",
   "execution_count": 6,
   "metadata": {},
   "outputs": [],
   "source": [
    "# Output: [volume, date, hangul, hanza]\n",
    "def getFromDay(monthKey, day):\n",
    "    days = getDayUrlFromDayKey(monthKey, day)\n",
    "\n",
    "    hanguls = []\n",
    "    hanza_answer = \"\"\n",
    "\n",
    "    for url in days:\n",
    "        print(\".\", end=\"\")\n",
    "        volume, date, hangul, hanza = getFromUrl(url)\n",
    "        \n",
    "        hanguls.append(hangul.strip())\n",
    "        hanza_answer = hanza_answer + \"\\n\" + hanza\n",
    "    \n",
    "    day_h = date.split(\" \")[-2]\n",
    "    return volume, date, day_h + \"일(\" + getGanzFromHangul(day_h) + \"日-\" + str(day) + \"일)에 \" + \"\\n\\n○ \".join(hanguls), hanza_answer\n"
   ]
  },
  {
   "cell_type": "code",
   "execution_count": 7,
   "metadata": {},
   "outputs": [
    {
     "ename": "SyntaxError",
     "evalue": "invalid syntax (1634518119.py, line 1)",
     "output_type": "error",
     "traceback": [
      "\u001b[0;36m  Input \u001b[0;32mIn [7]\u001b[0;36m\u001b[0m\n\u001b[0;31m    def getFromDay(monthKey, day)\u001b[0m\n\u001b[0m                                 ^\u001b[0m\n\u001b[0;31mSyntaxError\u001b[0m\u001b[0;31m:\u001b[0m invalid syntax\n"
     ]
    }
   ],
   "source": [
    "def getFromMonthKey(year, monthKey):\n",
    "    months = getDayUrlFromDayKey(monthKey, day)\n",
    "    hanguls = []\n",
    "    hanzas = []\n",
    "    for day, urls in months:\n",
    "        print (f\"{day}(\", end=\"\")\n",
    "        if len(urls) == 0: continue\n",
    "        volume, date, hangul, hanza = getFromDay(monthKey, day)\n",
    "        hanguls.append(hangul)\n",
    "        hanzas.append(hanza)\n",
    "        print (f\") \", end=\"\")\n",
    "    print (\"\")\n",
    "    \n",
    "    # ---\n",
    "    print (f\"{month}의 정보를 파일로 만드는 중입니다.\")\n",
    "    hangul = \"\\n\\n\".join(hanguls)\n",
    "    hanza = \"\\n\\n\".join(hanzas)\n",
    "    \n",
    "    year_hangul = f\"세종{year}년\"\n",
    "    if year == 0:\n",
    "        year_hangul = \"세종 즉위년\"\n",
    "    \n",
    "    # 세종1년 (1418년) 무술년 (무술년) 8월\n",
    "    gan = ganji(year+1417)\n",
    "    title_hangul = f\"{year_hangul} ({year+1417}년) {gan}년 ({getGanzFromHangul(gan)}年) {month}\"\n",
    "    # 원문 (세종실록 1권, 세종 즉위년 8월)\n",
    "    title_hanza = f\"원문 ({volume}, {year_hangul} {month}\"\n",
    "    \n",
    "    with open(f'{month} 국역.txt', 'w') as f:\n",
    "        f.write(volume + \"\\n\" + title_hangul + \"\\n\\n\" + hangul)\n",
    "    with open(f'{month} 원문.txt', 'w') as f:\n",
    "        f.write(title_hanza + \"\\n\" + hanza)"
   ]
  },
  {
   "cell_type": "code",
   "execution_count": 430,
   "metadata": {},
   "outputs": [
    {
     "ename": "KeyboardInterrupt",
     "evalue": "",
     "output_type": "error",
     "traceback": [
      "\u001b[0;31m---------------------------------------------------------------------------\u001b[0m",
      "\u001b[0;31mKeyboardInterrupt\u001b[0m                         Traceback (most recent call last)",
      "\u001b[1;32m/Volumes/Code/Sejong/src/main.ipynb Cell 8'\u001b[0m in \u001b[0;36m<module>\u001b[0;34m\u001b[0m\n\u001b[0;32m----> <a href='vscode-notebook-cell:/Volumes/Code/Sejong/src/main.ipynb#ch0000033?line=0'>1</a>\u001b[0m getDayUrlFromDayKey(\u001b[39m\"\u001b[39;49m\u001b[39mkda_100120\u001b[39;49m\u001b[39m\"\u001b[39;49m, \u001b[39m1\u001b[39;49m)\n",
      "\u001b[1;32m/Volumes/Code/Sejong/src/main.ipynb Cell 3'\u001b[0m in \u001b[0;36mgetDayUrlFromDayKey\u001b[0;34m(monthKey, day)\u001b[0m\n\u001b[1;32m      <a href='vscode-notebook-cell:/Volumes/Code/Sejong/src/main.ipynb#ch0000008?line=5'>6</a>\u001b[0m \u001b[39mfor\u001b[39;00m article \u001b[39min\u001b[39;00m \u001b[39mrange\u001b[39m(\u001b[39m1\u001b[39m, \u001b[39m100\u001b[39m):\n\u001b[1;32m      <a href='vscode-notebook-cell:/Volumes/Code/Sejong/src/main.ipynb#ch0000008?line=6'>7</a>\u001b[0m     url \u001b[39m=\u001b[39m \u001b[39mf\u001b[39m\u001b[39m'\u001b[39m\u001b[39mhttp://sillok.history.go.kr/id/\u001b[39m\u001b[39m{\u001b[39;00mmonthKey\u001b[39m}\u001b[39;00m\u001b[39m{\u001b[39;00mday\u001b[39m:\u001b[39;00m\u001b[39m02d\u001b[39m\u001b[39m}\u001b[39;00m\u001b[39m_\u001b[39m\u001b[39m{\u001b[39;00marticle\u001b[39m:\u001b[39;00m\u001b[39m03d\u001b[39m\u001b[39m}\u001b[39;00m\u001b[39m'\u001b[39m\n\u001b[0;32m----> <a href='vscode-notebook-cell:/Volumes/Code/Sejong/src/main.ipynb#ch0000008?line=7'>8</a>\u001b[0m     res \u001b[39m=\u001b[39m requests\u001b[39m.\u001b[39;49mget(url)\n\u001b[1;32m      <a href='vscode-notebook-cell:/Volumes/Code/Sejong/src/main.ipynb#ch0000008?line=8'>9</a>\u001b[0m     \u001b[39mif\u001b[39;00m \u001b[39mnot\u001b[39;00m isSiteValid(res): \u001b[39mbreak\u001b[39;00m\n\u001b[1;32m     <a href='vscode-notebook-cell:/Volumes/Code/Sejong/src/main.ipynb#ch0000008?line=9'>10</a>\u001b[0m     articles\u001b[39m.\u001b[39mappend(url)\n",
      "File \u001b[0;32m/opt/homebrew/lib/python3.9/site-packages/requests/api.py:75\u001b[0m, in \u001b[0;36mget\u001b[0;34m(url, params, **kwargs)\u001b[0m\n\u001b[1;32m     <a href='file:///opt/homebrew/lib/python3.9/site-packages/requests/api.py?line=63'>64</a>\u001b[0m \u001b[39mdef\u001b[39;00m \u001b[39mget\u001b[39m(url, params\u001b[39m=\u001b[39m\u001b[39mNone\u001b[39;00m, \u001b[39m*\u001b[39m\u001b[39m*\u001b[39mkwargs):\n\u001b[1;32m     <a href='file:///opt/homebrew/lib/python3.9/site-packages/requests/api.py?line=64'>65</a>\u001b[0m     \u001b[39mr\u001b[39m\u001b[39m\"\"\"Sends a GET request.\u001b[39;00m\n\u001b[1;32m     <a href='file:///opt/homebrew/lib/python3.9/site-packages/requests/api.py?line=65'>66</a>\u001b[0m \n\u001b[1;32m     <a href='file:///opt/homebrew/lib/python3.9/site-packages/requests/api.py?line=66'>67</a>\u001b[0m \u001b[39m    :param url: URL for the new :class:`Request` object.\u001b[39;00m\n\u001b[0;32m   (...)\u001b[0m\n\u001b[1;32m     <a href='file:///opt/homebrew/lib/python3.9/site-packages/requests/api.py?line=71'>72</a>\u001b[0m \u001b[39m    :rtype: requests.Response\u001b[39;00m\n\u001b[1;32m     <a href='file:///opt/homebrew/lib/python3.9/site-packages/requests/api.py?line=72'>73</a>\u001b[0m \u001b[39m    \"\"\"\u001b[39;00m\n\u001b[0;32m---> <a href='file:///opt/homebrew/lib/python3.9/site-packages/requests/api.py?line=74'>75</a>\u001b[0m     \u001b[39mreturn\u001b[39;00m request(\u001b[39m'\u001b[39;49m\u001b[39mget\u001b[39;49m\u001b[39m'\u001b[39;49m, url, params\u001b[39m=\u001b[39;49mparams, \u001b[39m*\u001b[39;49m\u001b[39m*\u001b[39;49mkwargs)\n",
      "File \u001b[0;32m/opt/homebrew/lib/python3.9/site-packages/requests/api.py:61\u001b[0m, in \u001b[0;36mrequest\u001b[0;34m(method, url, **kwargs)\u001b[0m\n\u001b[1;32m     <a href='file:///opt/homebrew/lib/python3.9/site-packages/requests/api.py?line=56'>57</a>\u001b[0m \u001b[39m# By using the 'with' statement we are sure the session is closed, thus we\u001b[39;00m\n\u001b[1;32m     <a href='file:///opt/homebrew/lib/python3.9/site-packages/requests/api.py?line=57'>58</a>\u001b[0m \u001b[39m# avoid leaving sockets open which can trigger a ResourceWarning in some\u001b[39;00m\n\u001b[1;32m     <a href='file:///opt/homebrew/lib/python3.9/site-packages/requests/api.py?line=58'>59</a>\u001b[0m \u001b[39m# cases, and look like a memory leak in others.\u001b[39;00m\n\u001b[1;32m     <a href='file:///opt/homebrew/lib/python3.9/site-packages/requests/api.py?line=59'>60</a>\u001b[0m \u001b[39mwith\u001b[39;00m sessions\u001b[39m.\u001b[39mSession() \u001b[39mas\u001b[39;00m session:\n\u001b[0;32m---> <a href='file:///opt/homebrew/lib/python3.9/site-packages/requests/api.py?line=60'>61</a>\u001b[0m     \u001b[39mreturn\u001b[39;00m session\u001b[39m.\u001b[39;49mrequest(method\u001b[39m=\u001b[39;49mmethod, url\u001b[39m=\u001b[39;49murl, \u001b[39m*\u001b[39;49m\u001b[39m*\u001b[39;49mkwargs)\n",
      "File \u001b[0;32m/opt/homebrew/lib/python3.9/site-packages/requests/sessions.py:529\u001b[0m, in \u001b[0;36mSession.request\u001b[0;34m(self, method, url, params, data, headers, cookies, files, auth, timeout, allow_redirects, proxies, hooks, stream, verify, cert, json)\u001b[0m\n\u001b[1;32m    <a href='file:///opt/homebrew/lib/python3.9/site-packages/requests/sessions.py?line=523'>524</a>\u001b[0m send_kwargs \u001b[39m=\u001b[39m {\n\u001b[1;32m    <a href='file:///opt/homebrew/lib/python3.9/site-packages/requests/sessions.py?line=524'>525</a>\u001b[0m     \u001b[39m'\u001b[39m\u001b[39mtimeout\u001b[39m\u001b[39m'\u001b[39m: timeout,\n\u001b[1;32m    <a href='file:///opt/homebrew/lib/python3.9/site-packages/requests/sessions.py?line=525'>526</a>\u001b[0m     \u001b[39m'\u001b[39m\u001b[39mallow_redirects\u001b[39m\u001b[39m'\u001b[39m: allow_redirects,\n\u001b[1;32m    <a href='file:///opt/homebrew/lib/python3.9/site-packages/requests/sessions.py?line=526'>527</a>\u001b[0m }\n\u001b[1;32m    <a href='file:///opt/homebrew/lib/python3.9/site-packages/requests/sessions.py?line=527'>528</a>\u001b[0m send_kwargs\u001b[39m.\u001b[39mupdate(settings)\n\u001b[0;32m--> <a href='file:///opt/homebrew/lib/python3.9/site-packages/requests/sessions.py?line=528'>529</a>\u001b[0m resp \u001b[39m=\u001b[39m \u001b[39mself\u001b[39;49m\u001b[39m.\u001b[39;49msend(prep, \u001b[39m*\u001b[39;49m\u001b[39m*\u001b[39;49msend_kwargs)\n\u001b[1;32m    <a href='file:///opt/homebrew/lib/python3.9/site-packages/requests/sessions.py?line=530'>531</a>\u001b[0m \u001b[39mreturn\u001b[39;00m resp\n",
      "File \u001b[0;32m/opt/homebrew/lib/python3.9/site-packages/requests/sessions.py:645\u001b[0m, in \u001b[0;36mSession.send\u001b[0;34m(self, request, **kwargs)\u001b[0m\n\u001b[1;32m    <a href='file:///opt/homebrew/lib/python3.9/site-packages/requests/sessions.py?line=641'>642</a>\u001b[0m start \u001b[39m=\u001b[39m preferred_clock()\n\u001b[1;32m    <a href='file:///opt/homebrew/lib/python3.9/site-packages/requests/sessions.py?line=643'>644</a>\u001b[0m \u001b[39m# Send the request\u001b[39;00m\n\u001b[0;32m--> <a href='file:///opt/homebrew/lib/python3.9/site-packages/requests/sessions.py?line=644'>645</a>\u001b[0m r \u001b[39m=\u001b[39m adapter\u001b[39m.\u001b[39;49msend(request, \u001b[39m*\u001b[39;49m\u001b[39m*\u001b[39;49mkwargs)\n\u001b[1;32m    <a href='file:///opt/homebrew/lib/python3.9/site-packages/requests/sessions.py?line=646'>647</a>\u001b[0m \u001b[39m# Total elapsed time of the request (approximately)\u001b[39;00m\n\u001b[1;32m    <a href='file:///opt/homebrew/lib/python3.9/site-packages/requests/sessions.py?line=647'>648</a>\u001b[0m elapsed \u001b[39m=\u001b[39m preferred_clock() \u001b[39m-\u001b[39m start\n",
      "File \u001b[0;32m/opt/homebrew/lib/python3.9/site-packages/requests/adapters.py:440\u001b[0m, in \u001b[0;36mHTTPAdapter.send\u001b[0;34m(self, request, stream, timeout, verify, cert, proxies)\u001b[0m\n\u001b[1;32m    <a href='file:///opt/homebrew/lib/python3.9/site-packages/requests/adapters.py?line=437'>438</a>\u001b[0m \u001b[39mtry\u001b[39;00m:\n\u001b[1;32m    <a href='file:///opt/homebrew/lib/python3.9/site-packages/requests/adapters.py?line=438'>439</a>\u001b[0m     \u001b[39mif\u001b[39;00m \u001b[39mnot\u001b[39;00m chunked:\n\u001b[0;32m--> <a href='file:///opt/homebrew/lib/python3.9/site-packages/requests/adapters.py?line=439'>440</a>\u001b[0m         resp \u001b[39m=\u001b[39m conn\u001b[39m.\u001b[39;49murlopen(\n\u001b[1;32m    <a href='file:///opt/homebrew/lib/python3.9/site-packages/requests/adapters.py?line=440'>441</a>\u001b[0m             method\u001b[39m=\u001b[39;49mrequest\u001b[39m.\u001b[39;49mmethod,\n\u001b[1;32m    <a href='file:///opt/homebrew/lib/python3.9/site-packages/requests/adapters.py?line=441'>442</a>\u001b[0m             url\u001b[39m=\u001b[39;49murl,\n\u001b[1;32m    <a href='file:///opt/homebrew/lib/python3.9/site-packages/requests/adapters.py?line=442'>443</a>\u001b[0m             body\u001b[39m=\u001b[39;49mrequest\u001b[39m.\u001b[39;49mbody,\n\u001b[1;32m    <a href='file:///opt/homebrew/lib/python3.9/site-packages/requests/adapters.py?line=443'>444</a>\u001b[0m             headers\u001b[39m=\u001b[39;49mrequest\u001b[39m.\u001b[39;49mheaders,\n\u001b[1;32m    <a href='file:///opt/homebrew/lib/python3.9/site-packages/requests/adapters.py?line=444'>445</a>\u001b[0m             redirect\u001b[39m=\u001b[39;49m\u001b[39mFalse\u001b[39;49;00m,\n\u001b[1;32m    <a href='file:///opt/homebrew/lib/python3.9/site-packages/requests/adapters.py?line=445'>446</a>\u001b[0m             assert_same_host\u001b[39m=\u001b[39;49m\u001b[39mFalse\u001b[39;49;00m,\n\u001b[1;32m    <a href='file:///opt/homebrew/lib/python3.9/site-packages/requests/adapters.py?line=446'>447</a>\u001b[0m             preload_content\u001b[39m=\u001b[39;49m\u001b[39mFalse\u001b[39;49;00m,\n\u001b[1;32m    <a href='file:///opt/homebrew/lib/python3.9/site-packages/requests/adapters.py?line=447'>448</a>\u001b[0m             decode_content\u001b[39m=\u001b[39;49m\u001b[39mFalse\u001b[39;49;00m,\n\u001b[1;32m    <a href='file:///opt/homebrew/lib/python3.9/site-packages/requests/adapters.py?line=448'>449</a>\u001b[0m             retries\u001b[39m=\u001b[39;49m\u001b[39mself\u001b[39;49m\u001b[39m.\u001b[39;49mmax_retries,\n\u001b[1;32m    <a href='file:///opt/homebrew/lib/python3.9/site-packages/requests/adapters.py?line=449'>450</a>\u001b[0m             timeout\u001b[39m=\u001b[39;49mtimeout\n\u001b[1;32m    <a href='file:///opt/homebrew/lib/python3.9/site-packages/requests/adapters.py?line=450'>451</a>\u001b[0m         )\n\u001b[1;32m    <a href='file:///opt/homebrew/lib/python3.9/site-packages/requests/adapters.py?line=452'>453</a>\u001b[0m     \u001b[39m# Send the request.\u001b[39;00m\n\u001b[1;32m    <a href='file:///opt/homebrew/lib/python3.9/site-packages/requests/adapters.py?line=453'>454</a>\u001b[0m     \u001b[39melse\u001b[39;00m:\n\u001b[1;32m    <a href='file:///opt/homebrew/lib/python3.9/site-packages/requests/adapters.py?line=454'>455</a>\u001b[0m         \u001b[39mif\u001b[39;00m \u001b[39mhasattr\u001b[39m(conn, \u001b[39m'\u001b[39m\u001b[39mproxy_pool\u001b[39m\u001b[39m'\u001b[39m):\n",
      "File \u001b[0;32m/opt/homebrew/lib/python3.9/site-packages/urllib3/connectionpool.py:703\u001b[0m, in \u001b[0;36mHTTPConnectionPool.urlopen\u001b[0;34m(self, method, url, body, headers, retries, redirect, assert_same_host, timeout, pool_timeout, release_conn, chunked, body_pos, **response_kw)\u001b[0m\n\u001b[1;32m    <a href='file:///opt/homebrew/lib/python3.9/site-packages/urllib3/connectionpool.py?line=699'>700</a>\u001b[0m     \u001b[39mself\u001b[39m\u001b[39m.\u001b[39m_prepare_proxy(conn)\n\u001b[1;32m    <a href='file:///opt/homebrew/lib/python3.9/site-packages/urllib3/connectionpool.py?line=701'>702</a>\u001b[0m \u001b[39m# Make the request on the httplib connection object.\u001b[39;00m\n\u001b[0;32m--> <a href='file:///opt/homebrew/lib/python3.9/site-packages/urllib3/connectionpool.py?line=702'>703</a>\u001b[0m httplib_response \u001b[39m=\u001b[39m \u001b[39mself\u001b[39;49m\u001b[39m.\u001b[39;49m_make_request(\n\u001b[1;32m    <a href='file:///opt/homebrew/lib/python3.9/site-packages/urllib3/connectionpool.py?line=703'>704</a>\u001b[0m     conn,\n\u001b[1;32m    <a href='file:///opt/homebrew/lib/python3.9/site-packages/urllib3/connectionpool.py?line=704'>705</a>\u001b[0m     method,\n\u001b[1;32m    <a href='file:///opt/homebrew/lib/python3.9/site-packages/urllib3/connectionpool.py?line=705'>706</a>\u001b[0m     url,\n\u001b[1;32m    <a href='file:///opt/homebrew/lib/python3.9/site-packages/urllib3/connectionpool.py?line=706'>707</a>\u001b[0m     timeout\u001b[39m=\u001b[39;49mtimeout_obj,\n\u001b[1;32m    <a href='file:///opt/homebrew/lib/python3.9/site-packages/urllib3/connectionpool.py?line=707'>708</a>\u001b[0m     body\u001b[39m=\u001b[39;49mbody,\n\u001b[1;32m    <a href='file:///opt/homebrew/lib/python3.9/site-packages/urllib3/connectionpool.py?line=708'>709</a>\u001b[0m     headers\u001b[39m=\u001b[39;49mheaders,\n\u001b[1;32m    <a href='file:///opt/homebrew/lib/python3.9/site-packages/urllib3/connectionpool.py?line=709'>710</a>\u001b[0m     chunked\u001b[39m=\u001b[39;49mchunked,\n\u001b[1;32m    <a href='file:///opt/homebrew/lib/python3.9/site-packages/urllib3/connectionpool.py?line=710'>711</a>\u001b[0m )\n\u001b[1;32m    <a href='file:///opt/homebrew/lib/python3.9/site-packages/urllib3/connectionpool.py?line=712'>713</a>\u001b[0m \u001b[39m# If we're going to release the connection in ``finally:``, then\u001b[39;00m\n\u001b[1;32m    <a href='file:///opt/homebrew/lib/python3.9/site-packages/urllib3/connectionpool.py?line=713'>714</a>\u001b[0m \u001b[39m# the response doesn't need to know about the connection. Otherwise\u001b[39;00m\n\u001b[1;32m    <a href='file:///opt/homebrew/lib/python3.9/site-packages/urllib3/connectionpool.py?line=714'>715</a>\u001b[0m \u001b[39m# it will also try to release it and we'll have a double-release\u001b[39;00m\n\u001b[1;32m    <a href='file:///opt/homebrew/lib/python3.9/site-packages/urllib3/connectionpool.py?line=715'>716</a>\u001b[0m \u001b[39m# mess.\u001b[39;00m\n\u001b[1;32m    <a href='file:///opt/homebrew/lib/python3.9/site-packages/urllib3/connectionpool.py?line=716'>717</a>\u001b[0m response_conn \u001b[39m=\u001b[39m conn \u001b[39mif\u001b[39;00m \u001b[39mnot\u001b[39;00m release_conn \u001b[39melse\u001b[39;00m \u001b[39mNone\u001b[39;00m\n",
      "File \u001b[0;32m/opt/homebrew/lib/python3.9/site-packages/urllib3/connectionpool.py:398\u001b[0m, in \u001b[0;36mHTTPConnectionPool._make_request\u001b[0;34m(self, conn, method, url, timeout, chunked, **httplib_request_kw)\u001b[0m\n\u001b[1;32m    <a href='file:///opt/homebrew/lib/python3.9/site-packages/urllib3/connectionpool.py?line=395'>396</a>\u001b[0m         conn\u001b[39m.\u001b[39mrequest_chunked(method, url, \u001b[39m*\u001b[39m\u001b[39m*\u001b[39mhttplib_request_kw)\n\u001b[1;32m    <a href='file:///opt/homebrew/lib/python3.9/site-packages/urllib3/connectionpool.py?line=396'>397</a>\u001b[0m     \u001b[39melse\u001b[39;00m:\n\u001b[0;32m--> <a href='file:///opt/homebrew/lib/python3.9/site-packages/urllib3/connectionpool.py?line=397'>398</a>\u001b[0m         conn\u001b[39m.\u001b[39;49mrequest(method, url, \u001b[39m*\u001b[39;49m\u001b[39m*\u001b[39;49mhttplib_request_kw)\n\u001b[1;32m    <a href='file:///opt/homebrew/lib/python3.9/site-packages/urllib3/connectionpool.py?line=399'>400</a>\u001b[0m \u001b[39m# We are swallowing BrokenPipeError (errno.EPIPE) since the server is\u001b[39;00m\n\u001b[1;32m    <a href='file:///opt/homebrew/lib/python3.9/site-packages/urllib3/connectionpool.py?line=400'>401</a>\u001b[0m \u001b[39m# legitimately able to close the connection after sending a valid response.\u001b[39;00m\n\u001b[1;32m    <a href='file:///opt/homebrew/lib/python3.9/site-packages/urllib3/connectionpool.py?line=401'>402</a>\u001b[0m \u001b[39m# With this behaviour, the received response is still readable.\u001b[39;00m\n\u001b[1;32m    <a href='file:///opt/homebrew/lib/python3.9/site-packages/urllib3/connectionpool.py?line=402'>403</a>\u001b[0m \u001b[39mexcept\u001b[39;00m \u001b[39mBrokenPipeError\u001b[39;00m:\n\u001b[1;32m    <a href='file:///opt/homebrew/lib/python3.9/site-packages/urllib3/connectionpool.py?line=403'>404</a>\u001b[0m     \u001b[39m# Python 3\u001b[39;00m\n",
      "File \u001b[0;32m/opt/homebrew/lib/python3.9/site-packages/urllib3/connection.py:239\u001b[0m, in \u001b[0;36mHTTPConnection.request\u001b[0;34m(self, method, url, body, headers)\u001b[0m\n\u001b[1;32m    <a href='file:///opt/homebrew/lib/python3.9/site-packages/urllib3/connection.py?line=236'>237</a>\u001b[0m \u001b[39mif\u001b[39;00m \u001b[39m\"\u001b[39m\u001b[39muser-agent\u001b[39m\u001b[39m\"\u001b[39m \u001b[39mnot\u001b[39;00m \u001b[39min\u001b[39;00m (six\u001b[39m.\u001b[39mensure_str(k\u001b[39m.\u001b[39mlower()) \u001b[39mfor\u001b[39;00m k \u001b[39min\u001b[39;00m headers):\n\u001b[1;32m    <a href='file:///opt/homebrew/lib/python3.9/site-packages/urllib3/connection.py?line=237'>238</a>\u001b[0m     headers[\u001b[39m\"\u001b[39m\u001b[39mUser-Agent\u001b[39m\u001b[39m\"\u001b[39m] \u001b[39m=\u001b[39m _get_default_user_agent()\n\u001b[0;32m--> <a href='file:///opt/homebrew/lib/python3.9/site-packages/urllib3/connection.py?line=238'>239</a>\u001b[0m \u001b[39msuper\u001b[39;49m(HTTPConnection, \u001b[39mself\u001b[39;49m)\u001b[39m.\u001b[39;49mrequest(method, url, body\u001b[39m=\u001b[39;49mbody, headers\u001b[39m=\u001b[39;49mheaders)\n",
      "File \u001b[0;32m/opt/homebrew/Cellar/python@3.9/3.9.9/Frameworks/Python.framework/Versions/3.9/lib/python3.9/http/client.py:1285\u001b[0m, in \u001b[0;36mHTTPConnection.request\u001b[0;34m(self, method, url, body, headers, encode_chunked)\u001b[0m\n\u001b[1;32m   <a href='file:///opt/homebrew/Cellar/python%403.9/3.9.9/Frameworks/Python.framework/Versions/3.9/lib/python3.9/http/client.py?line=1281'>1282</a>\u001b[0m \u001b[39mdef\u001b[39;00m \u001b[39mrequest\u001b[39m(\u001b[39mself\u001b[39m, method, url, body\u001b[39m=\u001b[39m\u001b[39mNone\u001b[39;00m, headers\u001b[39m=\u001b[39m{}, \u001b[39m*\u001b[39m,\n\u001b[1;32m   <a href='file:///opt/homebrew/Cellar/python%403.9/3.9.9/Frameworks/Python.framework/Versions/3.9/lib/python3.9/http/client.py?line=1282'>1283</a>\u001b[0m             encode_chunked\u001b[39m=\u001b[39m\u001b[39mFalse\u001b[39;00m):\n\u001b[1;32m   <a href='file:///opt/homebrew/Cellar/python%403.9/3.9.9/Frameworks/Python.framework/Versions/3.9/lib/python3.9/http/client.py?line=1283'>1284</a>\u001b[0m     \u001b[39m\"\"\"Send a complete request to the server.\"\"\"\u001b[39;00m\n\u001b[0;32m-> <a href='file:///opt/homebrew/Cellar/python%403.9/3.9.9/Frameworks/Python.framework/Versions/3.9/lib/python3.9/http/client.py?line=1284'>1285</a>\u001b[0m     \u001b[39mself\u001b[39;49m\u001b[39m.\u001b[39;49m_send_request(method, url, body, headers, encode_chunked)\n",
      "File \u001b[0;32m/opt/homebrew/Cellar/python@3.9/3.9.9/Frameworks/Python.framework/Versions/3.9/lib/python3.9/http/client.py:1331\u001b[0m, in \u001b[0;36mHTTPConnection._send_request\u001b[0;34m(self, method, url, body, headers, encode_chunked)\u001b[0m\n\u001b[1;32m   <a href='file:///opt/homebrew/Cellar/python%403.9/3.9.9/Frameworks/Python.framework/Versions/3.9/lib/python3.9/http/client.py?line=1326'>1327</a>\u001b[0m \u001b[39mif\u001b[39;00m \u001b[39misinstance\u001b[39m(body, \u001b[39mstr\u001b[39m):\n\u001b[1;32m   <a href='file:///opt/homebrew/Cellar/python%403.9/3.9.9/Frameworks/Python.framework/Versions/3.9/lib/python3.9/http/client.py?line=1327'>1328</a>\u001b[0m     \u001b[39m# RFC 2616 Section 3.7.1 says that text default has a\u001b[39;00m\n\u001b[1;32m   <a href='file:///opt/homebrew/Cellar/python%403.9/3.9.9/Frameworks/Python.framework/Versions/3.9/lib/python3.9/http/client.py?line=1328'>1329</a>\u001b[0m     \u001b[39m# default charset of iso-8859-1.\u001b[39;00m\n\u001b[1;32m   <a href='file:///opt/homebrew/Cellar/python%403.9/3.9.9/Frameworks/Python.framework/Versions/3.9/lib/python3.9/http/client.py?line=1329'>1330</a>\u001b[0m     body \u001b[39m=\u001b[39m _encode(body, \u001b[39m'\u001b[39m\u001b[39mbody\u001b[39m\u001b[39m'\u001b[39m)\n\u001b[0;32m-> <a href='file:///opt/homebrew/Cellar/python%403.9/3.9.9/Frameworks/Python.framework/Versions/3.9/lib/python3.9/http/client.py?line=1330'>1331</a>\u001b[0m \u001b[39mself\u001b[39;49m\u001b[39m.\u001b[39;49mendheaders(body, encode_chunked\u001b[39m=\u001b[39;49mencode_chunked)\n",
      "File \u001b[0;32m/opt/homebrew/Cellar/python@3.9/3.9.9/Frameworks/Python.framework/Versions/3.9/lib/python3.9/http/client.py:1280\u001b[0m, in \u001b[0;36mHTTPConnection.endheaders\u001b[0;34m(self, message_body, encode_chunked)\u001b[0m\n\u001b[1;32m   <a href='file:///opt/homebrew/Cellar/python%403.9/3.9.9/Frameworks/Python.framework/Versions/3.9/lib/python3.9/http/client.py?line=1277'>1278</a>\u001b[0m \u001b[39melse\u001b[39;00m:\n\u001b[1;32m   <a href='file:///opt/homebrew/Cellar/python%403.9/3.9.9/Frameworks/Python.framework/Versions/3.9/lib/python3.9/http/client.py?line=1278'>1279</a>\u001b[0m     \u001b[39mraise\u001b[39;00m CannotSendHeader()\n\u001b[0;32m-> <a href='file:///opt/homebrew/Cellar/python%403.9/3.9.9/Frameworks/Python.framework/Versions/3.9/lib/python3.9/http/client.py?line=1279'>1280</a>\u001b[0m \u001b[39mself\u001b[39;49m\u001b[39m.\u001b[39;49m_send_output(message_body, encode_chunked\u001b[39m=\u001b[39;49mencode_chunked)\n",
      "File \u001b[0;32m/opt/homebrew/Cellar/python@3.9/3.9.9/Frameworks/Python.framework/Versions/3.9/lib/python3.9/http/client.py:1040\u001b[0m, in \u001b[0;36mHTTPConnection._send_output\u001b[0;34m(self, message_body, encode_chunked)\u001b[0m\n\u001b[1;32m   <a href='file:///opt/homebrew/Cellar/python%403.9/3.9.9/Frameworks/Python.framework/Versions/3.9/lib/python3.9/http/client.py?line=1037'>1038</a>\u001b[0m msg \u001b[39m=\u001b[39m \u001b[39mb\u001b[39m\u001b[39m\"\u001b[39m\u001b[39m\\r\u001b[39;00m\u001b[39m\\n\u001b[39;00m\u001b[39m\"\u001b[39m\u001b[39m.\u001b[39mjoin(\u001b[39mself\u001b[39m\u001b[39m.\u001b[39m_buffer)\n\u001b[1;32m   <a href='file:///opt/homebrew/Cellar/python%403.9/3.9.9/Frameworks/Python.framework/Versions/3.9/lib/python3.9/http/client.py?line=1038'>1039</a>\u001b[0m \u001b[39mdel\u001b[39;00m \u001b[39mself\u001b[39m\u001b[39m.\u001b[39m_buffer[:]\n\u001b[0;32m-> <a href='file:///opt/homebrew/Cellar/python%403.9/3.9.9/Frameworks/Python.framework/Versions/3.9/lib/python3.9/http/client.py?line=1039'>1040</a>\u001b[0m \u001b[39mself\u001b[39;49m\u001b[39m.\u001b[39;49msend(msg)\n\u001b[1;32m   <a href='file:///opt/homebrew/Cellar/python%403.9/3.9.9/Frameworks/Python.framework/Versions/3.9/lib/python3.9/http/client.py?line=1041'>1042</a>\u001b[0m \u001b[39mif\u001b[39;00m message_body \u001b[39mis\u001b[39;00m \u001b[39mnot\u001b[39;00m \u001b[39mNone\u001b[39;00m:\n\u001b[1;32m   <a href='file:///opt/homebrew/Cellar/python%403.9/3.9.9/Frameworks/Python.framework/Versions/3.9/lib/python3.9/http/client.py?line=1042'>1043</a>\u001b[0m \n\u001b[1;32m   <a href='file:///opt/homebrew/Cellar/python%403.9/3.9.9/Frameworks/Python.framework/Versions/3.9/lib/python3.9/http/client.py?line=1043'>1044</a>\u001b[0m     \u001b[39m# create a consistent interface to message_body\u001b[39;00m\n\u001b[1;32m   <a href='file:///opt/homebrew/Cellar/python%403.9/3.9.9/Frameworks/Python.framework/Versions/3.9/lib/python3.9/http/client.py?line=1044'>1045</a>\u001b[0m     \u001b[39mif\u001b[39;00m \u001b[39mhasattr\u001b[39m(message_body, \u001b[39m'\u001b[39m\u001b[39mread\u001b[39m\u001b[39m'\u001b[39m):\n\u001b[1;32m   <a href='file:///opt/homebrew/Cellar/python%403.9/3.9.9/Frameworks/Python.framework/Versions/3.9/lib/python3.9/http/client.py?line=1045'>1046</a>\u001b[0m         \u001b[39m# Let file-like take precedence over byte-like.  This\u001b[39;00m\n\u001b[1;32m   <a href='file:///opt/homebrew/Cellar/python%403.9/3.9.9/Frameworks/Python.framework/Versions/3.9/lib/python3.9/http/client.py?line=1046'>1047</a>\u001b[0m         \u001b[39m# is needed to allow the current position of mmap'ed\u001b[39;00m\n\u001b[1;32m   <a href='file:///opt/homebrew/Cellar/python%403.9/3.9.9/Frameworks/Python.framework/Versions/3.9/lib/python3.9/http/client.py?line=1047'>1048</a>\u001b[0m         \u001b[39m# files to be taken into account.\u001b[39;00m\n",
      "File \u001b[0;32m/opt/homebrew/Cellar/python@3.9/3.9.9/Frameworks/Python.framework/Versions/3.9/lib/python3.9/http/client.py:980\u001b[0m, in \u001b[0;36mHTTPConnection.send\u001b[0;34m(self, data)\u001b[0m\n\u001b[1;32m    <a href='file:///opt/homebrew/Cellar/python%403.9/3.9.9/Frameworks/Python.framework/Versions/3.9/lib/python3.9/http/client.py?line=977'>978</a>\u001b[0m \u001b[39mif\u001b[39;00m \u001b[39mself\u001b[39m\u001b[39m.\u001b[39msock \u001b[39mis\u001b[39;00m \u001b[39mNone\u001b[39;00m:\n\u001b[1;32m    <a href='file:///opt/homebrew/Cellar/python%403.9/3.9.9/Frameworks/Python.framework/Versions/3.9/lib/python3.9/http/client.py?line=978'>979</a>\u001b[0m     \u001b[39mif\u001b[39;00m \u001b[39mself\u001b[39m\u001b[39m.\u001b[39mauto_open:\n\u001b[0;32m--> <a href='file:///opt/homebrew/Cellar/python%403.9/3.9.9/Frameworks/Python.framework/Versions/3.9/lib/python3.9/http/client.py?line=979'>980</a>\u001b[0m         \u001b[39mself\u001b[39;49m\u001b[39m.\u001b[39;49mconnect()\n\u001b[1;32m    <a href='file:///opt/homebrew/Cellar/python%403.9/3.9.9/Frameworks/Python.framework/Versions/3.9/lib/python3.9/http/client.py?line=980'>981</a>\u001b[0m     \u001b[39melse\u001b[39;00m:\n\u001b[1;32m    <a href='file:///opt/homebrew/Cellar/python%403.9/3.9.9/Frameworks/Python.framework/Versions/3.9/lib/python3.9/http/client.py?line=981'>982</a>\u001b[0m         \u001b[39mraise\u001b[39;00m NotConnected()\n",
      "File \u001b[0;32m/opt/homebrew/lib/python3.9/site-packages/urllib3/connection.py:205\u001b[0m, in \u001b[0;36mHTTPConnection.connect\u001b[0;34m(self)\u001b[0m\n\u001b[1;32m    <a href='file:///opt/homebrew/lib/python3.9/site-packages/urllib3/connection.py?line=203'>204</a>\u001b[0m \u001b[39mdef\u001b[39;00m \u001b[39mconnect\u001b[39m(\u001b[39mself\u001b[39m):\n\u001b[0;32m--> <a href='file:///opt/homebrew/lib/python3.9/site-packages/urllib3/connection.py?line=204'>205</a>\u001b[0m     conn \u001b[39m=\u001b[39m \u001b[39mself\u001b[39;49m\u001b[39m.\u001b[39;49m_new_conn()\n\u001b[1;32m    <a href='file:///opt/homebrew/lib/python3.9/site-packages/urllib3/connection.py?line=205'>206</a>\u001b[0m     \u001b[39mself\u001b[39m\u001b[39m.\u001b[39m_prepare_conn(conn)\n",
      "File \u001b[0;32m/opt/homebrew/lib/python3.9/site-packages/urllib3/connection.py:174\u001b[0m, in \u001b[0;36mHTTPConnection._new_conn\u001b[0;34m(self)\u001b[0m\n\u001b[1;32m    <a href='file:///opt/homebrew/lib/python3.9/site-packages/urllib3/connection.py?line=170'>171</a>\u001b[0m     extra_kw[\u001b[39m\"\u001b[39m\u001b[39msocket_options\u001b[39m\u001b[39m\"\u001b[39m] \u001b[39m=\u001b[39m \u001b[39mself\u001b[39m\u001b[39m.\u001b[39msocket_options\n\u001b[1;32m    <a href='file:///opt/homebrew/lib/python3.9/site-packages/urllib3/connection.py?line=172'>173</a>\u001b[0m \u001b[39mtry\u001b[39;00m:\n\u001b[0;32m--> <a href='file:///opt/homebrew/lib/python3.9/site-packages/urllib3/connection.py?line=173'>174</a>\u001b[0m     conn \u001b[39m=\u001b[39m connection\u001b[39m.\u001b[39;49mcreate_connection(\n\u001b[1;32m    <a href='file:///opt/homebrew/lib/python3.9/site-packages/urllib3/connection.py?line=174'>175</a>\u001b[0m         (\u001b[39mself\u001b[39;49m\u001b[39m.\u001b[39;49m_dns_host, \u001b[39mself\u001b[39;49m\u001b[39m.\u001b[39;49mport), \u001b[39mself\u001b[39;49m\u001b[39m.\u001b[39;49mtimeout, \u001b[39m*\u001b[39;49m\u001b[39m*\u001b[39;49mextra_kw\n\u001b[1;32m    <a href='file:///opt/homebrew/lib/python3.9/site-packages/urllib3/connection.py?line=175'>176</a>\u001b[0m     )\n\u001b[1;32m    <a href='file:///opt/homebrew/lib/python3.9/site-packages/urllib3/connection.py?line=177'>178</a>\u001b[0m \u001b[39mexcept\u001b[39;00m SocketTimeout:\n\u001b[1;32m    <a href='file:///opt/homebrew/lib/python3.9/site-packages/urllib3/connection.py?line=178'>179</a>\u001b[0m     \u001b[39mraise\u001b[39;00m ConnectTimeoutError(\n\u001b[1;32m    <a href='file:///opt/homebrew/lib/python3.9/site-packages/urllib3/connection.py?line=179'>180</a>\u001b[0m         \u001b[39mself\u001b[39m,\n\u001b[1;32m    <a href='file:///opt/homebrew/lib/python3.9/site-packages/urllib3/connection.py?line=180'>181</a>\u001b[0m         \u001b[39m\"\u001b[39m\u001b[39mConnection to \u001b[39m\u001b[39m%s\u001b[39;00m\u001b[39m timed out. (connect timeout=\u001b[39m\u001b[39m%s\u001b[39;00m\u001b[39m)\u001b[39m\u001b[39m\"\u001b[39m\n\u001b[1;32m    <a href='file:///opt/homebrew/lib/python3.9/site-packages/urllib3/connection.py?line=181'>182</a>\u001b[0m         \u001b[39m%\u001b[39m (\u001b[39mself\u001b[39m\u001b[39m.\u001b[39mhost, \u001b[39mself\u001b[39m\u001b[39m.\u001b[39mtimeout),\n\u001b[1;32m    <a href='file:///opt/homebrew/lib/python3.9/site-packages/urllib3/connection.py?line=182'>183</a>\u001b[0m     )\n",
      "File \u001b[0;32m/opt/homebrew/lib/python3.9/site-packages/urllib3/util/connection.py:85\u001b[0m, in \u001b[0;36mcreate_connection\u001b[0;34m(address, timeout, source_address, socket_options)\u001b[0m\n\u001b[1;32m     <a href='file:///opt/homebrew/lib/python3.9/site-packages/urllib3/util/connection.py?line=82'>83</a>\u001b[0m     \u001b[39mif\u001b[39;00m source_address:\n\u001b[1;32m     <a href='file:///opt/homebrew/lib/python3.9/site-packages/urllib3/util/connection.py?line=83'>84</a>\u001b[0m         sock\u001b[39m.\u001b[39mbind(source_address)\n\u001b[0;32m---> <a href='file:///opt/homebrew/lib/python3.9/site-packages/urllib3/util/connection.py?line=84'>85</a>\u001b[0m     sock\u001b[39m.\u001b[39;49mconnect(sa)\n\u001b[1;32m     <a href='file:///opt/homebrew/lib/python3.9/site-packages/urllib3/util/connection.py?line=85'>86</a>\u001b[0m     \u001b[39mreturn\u001b[39;00m sock\n\u001b[1;32m     <a href='file:///opt/homebrew/lib/python3.9/site-packages/urllib3/util/connection.py?line=87'>88</a>\u001b[0m \u001b[39mexcept\u001b[39;00m socket\u001b[39m.\u001b[39merror \u001b[39mas\u001b[39;00m e:\n",
      "\u001b[0;31mKeyboardInterrupt\u001b[0m: "
     ]
    }
   ],
   "source": [
    "getDayUrlFromDayKey(\"kda_100120\", 1)"
   ]
  },
  {
   "cell_type": "code",
   "execution_count": null,
   "metadata": {},
   "outputs": [],
   "source": [
    "getDayUrlFromDayKey(\"kda_100120\", 2)"
   ]
  },
  {
   "cell_type": "code",
   "execution_count": null,
   "metadata": {},
   "outputs": [],
   "source": []
  }
 ],
 "metadata": {
  "interpreter": {
   "hash": "b0fa6594d8f4cbf19f97940f81e996739fb7646882a419484c72d19e05852a7e"
  },
  "kernelspec": {
   "display_name": "Python 3.9.9 64-bit",
   "language": "python",
   "name": "python3"
  },
  "language_info": {
   "codemirror_mode": {
    "name": "ipython",
    "version": 3
   },
   "file_extension": ".py",
   "mimetype": "text/x-python",
   "name": "python",
   "nbconvert_exporter": "python",
   "pygments_lexer": "ipython3",
   "version": "3.9.9"
  },
  "orig_nbformat": 4
 },
 "nbformat": 4,
 "nbformat_minor": 2
}
